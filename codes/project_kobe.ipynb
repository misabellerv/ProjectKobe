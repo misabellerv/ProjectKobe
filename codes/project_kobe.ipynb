{
 "cells": [
  {
   "cell_type": "code",
   "execution_count": 1,
   "id": "a24fcdd2-2fc3-4fab-bb2d-828bf458b072",
   "metadata": {},
   "outputs": [],
   "source": [
    "import os\n",
    "import warnings\n",
    "import sys\n",
    "\n",
    "import pandas as pd\n",
    "import matplotlib.pyplot as plt\n",
    "import matplotlib as mpl\n",
    "import numpy as np\n",
    "from sklearn import linear_model, preprocessing, metrics, model_selection\n",
    "import mlflow\n",
    "import mlflow.sklearn\n",
    "from mlflow.models.signature import infer_signature\n",
    "from mlflow.tracking import MlflowClient\n",
    "from sklearn.metrics import f1_score\n",
    "from sklearn.metrics import log_loss\n",
    "from pycaret.classification import *\n",
    "import pycaret.classification as pc\n",
    "\n",
    "import seaborn as sn\n",
    "\n",
    "if 'inline_rc' not in dir():\n",
    "    inline_rc = dict(mpl.rcParams)\n",
    "\n",
    "SEED = 10\n",
    "np.random.seed(SEED)"
   ]
  },
  {
   "cell_type": "code",
   "execution_count": 2,
   "id": "be042582-12aa-4cd0-9d22-65d30abcef2c",
   "metadata": {},
   "outputs": [],
   "source": [
    "mpl.rcParams.update(inline_rc)\n",
    "font = {'family' : 'normal',\n",
    "        'weight' : 'normal',\n",
    "        'size'   : 14}\n",
    "mpl.rc('font', **font)\n",
    "lines = {'linewidth' : 3}\n",
    "mpl.rc('lines', **lines)\n",
    "\n",
    "registered_model_name = 'projeto_kobe'\n",
    "min_precision = 0.7\n",
    "model_version = -1\n",
    "nexamples = 4"
   ]
  },
  {
   "cell_type": "code",
   "execution_count": 7,
   "id": "b2e5ffab-6d5a-4cc3-ac44-7707dcd3c6c9",
   "metadata": {},
   "outputs": [],
   "source": [
    "mlflow.set_tracking_uri(\"sqlite:///mlruns.db\")\n",
    "\n",
    "experiment_name = 'Projeto Kobe'\n",
    "experiment = mlflow.get_experiment_by_name(experiment_name)\n",
    "if experiment is None:\n",
    "    experiment_id = mlflow.create_experiment(experiment_name)\n",
    "    experiment = mlflow.get_experiment(experiment_id)\n",
    "experiment_id = experiment.experiment_id"
   ]
  },
  {
   "cell_type": "code",
   "execution_count": 9,
   "id": "001b3604-5fb6-4850-a307-38105505318c",
   "metadata": {},
   "outputs": [
    {
     "name": "stdout",
     "output_type": "stream",
     "text": [
      "== Bases de Dados ==\n",
      "xtrain (16228, 7)\n",
      "data_operation (4057, 7)\n",
      "Columns: Index(['lat', 'lon', 'minutes_remaining', 'period', 'playoffs',\n",
      "       'shot_distance', 'shot_made_flag'],\n",
      "      dtype='object')\n",
      "Value counts for df:\n"
     ]
    }
   ],
   "source": [
    "with mlflow.start_run(experiment_id=experiment_id, run_name = 'PreparacaoDados'):\n",
    "    \n",
    "    df = pd.read_csv('../Data/Raw/kobe_dataset.csv',sep=',')\n",
    "    \n",
    "    target_col = 'shot_made_flag'\n",
    "    \n",
    "    df_2pt = df[df['shot_type'] == '2PT Field Goal']\n",
    "    df_2pt = df_2pt[['lat','lon','minutes_remaining','period', 'playoffs','shot_distance','shot_made_flag']]\n",
    "    \n",
    "    ##############################################################################################################\n",
    "      \n",
    "    df_3pt = df[df['shot_type'] == '3PT Field Goal']\n",
    "    df_3pt = df_3pt[['lat','lon','minutes_remaining','period', 'playoffs','shot_distance','shot_made_flag']]\n",
    "    \n",
    "    # drop nas colunas vazias\n",
    "    \n",
    "    df_2pt = df_2pt.dropna()\n",
    "    df_3pt = df_3pt.dropna()\n",
    "    test_size = 0.2\n",
    "    \n",
    "    # train test split 80/20\n",
    "    \n",
    "    xtrain, data_operation, ytrain, ytest = model_selection.train_test_split(df_2pt, \n",
    "                                                                            df_2pt[target_col],\n",
    "                                                                            test_size=test_size)\n",
    "    \n",
    "    data_novelty = df_3pt.copy()\n",
    "\n",
    "    xtrain.to_parquet('../Data/Processed/data_filtered.parquet')\n",
    "    data_operation.to_parquet('../Data/Processed/base_8020.parquet')\n",
    "    data_novelty.to_parquet('../Data/Processed/base_kobe_novidade.parquet')\n",
    "\n",
    "    # LOG DE PARAMETROS DO MODELO\n",
    "    mlflow.log_param(\"test_size\", test_size)\n",
    "\n",
    "    # LOG DE METRICAS GLOBAIS\n",
    "    mlflow.log_metric(\"data_dev\", df_2pt.shape[0])\n",
    "    mlflow.log_metric(\"data_operation\", data_operation.shape[0])\n",
    "   \n",
    "    \n",
    "mlflow.end_run()\n",
    "\n",
    "print('== Bases de Dados ==')\n",
    "print(f'xtrain {xtrain.shape}')\n",
    "print(f'data_operation {data_operation.shape}')\n",
    "print(f'Columns: {df_2pt.columns}')\n",
    "print(f'Value counts for df:')"
   ]
  },
  {
   "cell_type": "code",
   "execution_count": 10,
   "id": "f0304345-d233-4cd1-b934-a910629c0a62",
   "metadata": {},
   "outputs": [
    {
     "data": {
      "text/html": [
       "<style type=\"text/css\">\n",
       "</style>\n",
       "<table id=\"T_e61f2\">\n",
       "  <thead>\n",
       "    <tr>\n",
       "      <th class=\"blank level0\" >&nbsp;</th>\n",
       "      <th id=\"T_e61f2_level0_col0\" class=\"col_heading level0 col0\" >Model</th>\n",
       "      <th id=\"T_e61f2_level0_col1\" class=\"col_heading level0 col1\" >Accuracy</th>\n",
       "      <th id=\"T_e61f2_level0_col2\" class=\"col_heading level0 col2\" >AUC</th>\n",
       "      <th id=\"T_e61f2_level0_col3\" class=\"col_heading level0 col3\" >Recall</th>\n",
       "      <th id=\"T_e61f2_level0_col4\" class=\"col_heading level0 col4\" >Prec.</th>\n",
       "      <th id=\"T_e61f2_level0_col5\" class=\"col_heading level0 col5\" >F1</th>\n",
       "      <th id=\"T_e61f2_level0_col6\" class=\"col_heading level0 col6\" >Kappa</th>\n",
       "      <th id=\"T_e61f2_level0_col7\" class=\"col_heading level0 col7\" >MCC</th>\n",
       "      <th id=\"T_e61f2_level0_col8\" class=\"col_heading level0 col8\" >Log Loss</th>\n",
       "    </tr>\n",
       "  </thead>\n",
       "  <tbody>\n",
       "    <tr>\n",
       "      <th id=\"T_e61f2_level0_row0\" class=\"row_heading level0 row0\" >0</th>\n",
       "      <td id=\"T_e61f2_row0_col0\" class=\"data row0 col0\" >Decision Tree Classifier</td>\n",
       "      <td id=\"T_e61f2_row0_col1\" class=\"data row0 col1\" >0.5507</td>\n",
       "      <td id=\"T_e61f2_row0_col2\" class=\"data row0 col2\" >0.5341</td>\n",
       "      <td id=\"T_e61f2_row0_col3\" class=\"data row0 col3\" >0.5879</td>\n",
       "      <td id=\"T_e61f2_row0_col4\" class=\"data row0 col4\" >0.5373</td>\n",
       "      <td id=\"T_e61f2_row0_col5\" class=\"data row0 col5\" >0.5615</td>\n",
       "      <td id=\"T_e61f2_row0_col6\" class=\"data row0 col6\" >0.1027</td>\n",
       "      <td id=\"T_e61f2_row0_col7\" class=\"data row0 col7\" >0.1031</td>\n",
       "      <td id=\"T_e61f2_row0_col8\" class=\"data row0 col8\" >15.5201</td>\n",
       "    </tr>\n",
       "  </tbody>\n",
       "</table>\n"
      ],
      "text/plain": [
       "<pandas.io.formats.style.Styler at 0x1dedc384580>"
      ]
     },
     "metadata": {},
     "output_type": "display_data"
    },
    {
     "data": {
      "text/html": [
       "<style type=\"text/css\">\n",
       "</style>\n",
       "<table id=\"T_7cdde\">\n",
       "  <thead>\n",
       "    <tr>\n",
       "      <th class=\"blank level0\" >&nbsp;</th>\n",
       "      <th id=\"T_7cdde_level0_col0\" class=\"col_heading level0 col0\" >Model</th>\n",
       "      <th id=\"T_7cdde_level0_col1\" class=\"col_heading level0 col1\" >Accuracy</th>\n",
       "      <th id=\"T_7cdde_level0_col2\" class=\"col_heading level0 col2\" >AUC</th>\n",
       "      <th id=\"T_7cdde_level0_col3\" class=\"col_heading level0 col3\" >Recall</th>\n",
       "      <th id=\"T_7cdde_level0_col4\" class=\"col_heading level0 col4\" >Prec.</th>\n",
       "      <th id=\"T_7cdde_level0_col5\" class=\"col_heading level0 col5\" >F1</th>\n",
       "      <th id=\"T_7cdde_level0_col6\" class=\"col_heading level0 col6\" >Kappa</th>\n",
       "      <th id=\"T_7cdde_level0_col7\" class=\"col_heading level0 col7\" >MCC</th>\n",
       "      <th id=\"T_7cdde_level0_col8\" class=\"col_heading level0 col8\" >Log Loss</th>\n",
       "    </tr>\n",
       "  </thead>\n",
       "  <tbody>\n",
       "    <tr>\n",
       "      <th id=\"T_7cdde_level0_row0\" class=\"row_heading level0 row0\" >0</th>\n",
       "      <td id=\"T_7cdde_row0_col0\" class=\"data row0 col0\" >Logistic Regression</td>\n",
       "      <td id=\"T_7cdde_row0_col1\" class=\"data row0 col1\" >0.5706</td>\n",
       "      <td id=\"T_7cdde_row0_col2\" class=\"data row0 col2\" >0.5936</td>\n",
       "      <td id=\"T_7cdde_row0_col3\" class=\"data row0 col3\" >0.4660</td>\n",
       "      <td id=\"T_7cdde_row0_col4\" class=\"data row0 col4\" >0.5756</td>\n",
       "      <td id=\"T_7cdde_row0_col5\" class=\"data row0 col5\" >0.5150</td>\n",
       "      <td id=\"T_7cdde_row0_col6\" class=\"data row0 col6\" >0.1374</td>\n",
       "      <td id=\"T_7cdde_row0_col7\" class=\"data row0 col7\" >0.1399</td>\n",
       "      <td id=\"T_7cdde_row0_col8\" class=\"data row0 col8\" >14.8304</td>\n",
       "    </tr>\n",
       "  </tbody>\n",
       "</table>\n"
      ],
      "text/plain": [
       "<pandas.io.formats.style.Styler at 0x1dedc316d60>"
      ]
     },
     "metadata": {},
     "output_type": "display_data"
    },
    {
     "name": "stdout",
     "output_type": "stream",
     "text": [
      "Transformation Pipeline and Model Successfully Saved\n",
      "Transformation Pipeline and Model Successfully Loaded\n"
     ]
    }
   ],
   "source": [
    "with mlflow.start_run(experiment_id=experiment_id, run_name = 'Treino'):\n",
    "    \n",
    "    models = ['lr','dt']\n",
    "    probability_threshold = 0.5\n",
    "    cross_validation = True\n",
    "    fold_strategy = 'stratifiedkfold',\n",
    "    fold = 10\n",
    "\n",
    "    # train/test\n",
    "    s = pc.setup(data = df_2pt, \n",
    "                 target = target_col,\n",
    "                 train_size=0.8,\n",
    "                 silent = True,\n",
    "                 fold_strategy = 'stratifiedkfold',\n",
    "                 fold = fold,\n",
    "                 log_experiment = True, \n",
    "                 experiment_name = experiment_name, \n",
    "                 log_plots = True,\n",
    "                 verbose=False\n",
    "                )\n",
    "    #bestmodel = pc.create_model(model_name,cross_validation = cross_validation,probability_threshold=probability_threshold)\n",
    "    add_metric('logloss', 'Log Loss', log_loss, greater_is_better = False)\n",
    "    bestmodels = pc.compare_models(include = models, sort='f1',n_select=2)\n",
    "    \n",
    "    # Log do run, e nao do modelo respectivo\n",
    "    classification_plots = [ 'auc','pr','confusion_matrix',\n",
    "    #                          'error', 'class_report', \n",
    "                            'threshold',\n",
    "                             'learning','vc','feature',\n",
    "                            \n",
    "                           ]\n",
    "    for plot_type in classification_plots:\n",
    "        print('=> Aplicando plot ', plot_type)\n",
    "        try:\n",
    "            artifact = pc.plot_model(bestmodels[0], plot=plot_type, save=True, use_train_data=False)\n",
    "            mlflow.log_artifact(artifact)\n",
    "        except:\n",
    "            print('=> Nao possivel plotar: ', plot_type )\n",
    "            continue\n",
    "\n",
    "    pred_holdout = pc.predict_model(bestmodels[0])\n",
    "    pred_holdout_sec = pc.predict_model(bestmodels[1])\n",
    "    mlflow.log_metrics({\"log loss Arvore\":  log_loss(ytest, pred_holdout['Label']),\n",
    "                       \"f1 Arvore\": f1_score(ytest, pred_holdout['Label'].astype(float)),\n",
    "                       })\n",
    "    \n",
    "    mlflow.log_metrics({\"log loss LR\":  log_loss(ytest, pred_holdout_sec['Label']),\n",
    "                       \"f1 LR\": f1_score(ytest, pred_holdout_sec['Label'].astype(float)),\n",
    "                       })\n",
    "    pc.save_model(bestmodels[0], f'../Data/Modeling/{registered_model_name}') \n",
    "    # Carrega novamente o pipeline + bestmodel\n",
    "    model_pipe = pc.load_model(f'../Data/Modeling/{registered_model_name}')\n",
    "\n",
    "\n",
    "mlflow.end_run()"
   ]
  },
  {
   "cell_type": "code",
   "execution_count": 12,
   "id": "41e10361-37e4-49cc-884f-0bb424d534c7",
   "metadata": {},
   "outputs": [
    {
     "name": "stderr",
     "output_type": "stream",
     "text": [
      "Registered model 'modelo_kobe' already exists. Creating a new version of this model...\n",
      "2022/09/10 15:26:05 INFO mlflow.tracking._model_registry.client: Waiting up to 300 seconds for model version to finish creation.                     Model name: modelo_kobe, version 2\n",
      "Created version '2' of model 'modelo_kobe'.\n"
     ]
    }
   ],
   "source": [
    "from mlflow.tracking import MlflowClient\n",
    "mlflow.set_tracking_uri(\"sqlite:///mlruns.db\")\n",
    "\n",
    "registered_model_name = 'modelo_kobe'\n",
    "model_version = -1 # recuperar a ultima versao\n",
    "nexamples = 4\n",
    "\n",
    "\n",
    "# Assinatura do Modelo Inferida pelo MLFlow\n",
    "\n",
    "model_features = list(df_2pt.drop(target_col, axis=1).columns)\n",
    "inf_signature = infer_signature(df_2pt[model_features], model_pipe.predict(df_2pt))\n",
    "\n",
    "# Exemplo de entrada para o MLmodel\n",
    "\n",
    "input_example = {x: df_2pt[x].values[:nexamples] for x in model_features}\n",
    "\n",
    "# Log do pipeline de modelagem do sklearn e registrar como uma nova versao\n",
    "\n",
    "# Log do pipeline de modelagem do sklearn e registrar como uma nova versao\n",
    "mlflow.sklearn.log_model(\n",
    "     sk_model=model_pipe,\n",
    "     artifact_path=\"sklearn-model\",\n",
    "     registered_model_name=registered_model_name,\n",
    "     signature = inf_signature,\n",
    "     input_example = input_example\n",
    " )\n",
    "# Criacao do cliente do servico MLFlow e atualizacao versao modelo\n",
    "client = MlflowClient()\n",
    "if model_version == -1:\n",
    "    model_version = client.get_latest_versions(registered_model_name)[-1].version\n",
    "# Registrar o modelo como staging\n",
    "client.transition_model_version_stage(\n",
    "     name=registered_model_name,\n",
    "     version=model_version, # Verificar com usuario qual versao\n",
    "     stage=\"Staging\"\n",
    ")\n",
    "mlflow.end_run()"
   ]
  },
  {
   "cell_type": "code",
   "execution_count": 17,
   "id": "4c315626-b644-4d7e-8141-bf68a8ec54d9",
   "metadata": {},
   "outputs": [
    {
     "name": "stdout",
     "output_type": "stream",
     "text": [
      "^C\n"
     ]
    }
   ],
   "source": [
    "import os\n",
    "os.environ['MLFLOW_TRACKING_URI'] = 'sqlite:///mlruns.db'\n",
    "!mlflow models serve -m \"models:/modelo_kobe/Staging\" --no-conda -p 5002"
   ]
  },
  {
   "cell_type": "code",
   "execution_count": 18,
   "id": "b96199d4-d060-47ac-8914-2adad74ade1a",
   "metadata": {},
   "outputs": [
    {
     "name": "stdout",
     "output_type": "stream",
     "text": [
      "              precision    recall  f1-score   support\n",
      "\n",
      "         0.0       0.90      0.79      0.84      2133\n",
      "         1.0       0.80      0.90      0.84      1924\n",
      "\n",
      "    accuracy                           0.84      4057\n",
      "   macro avg       0.85      0.84      0.84      4057\n",
      "weighted avg       0.85      0.84      0.84      4057\n",
      "\n",
      "              precision    recall  f1-score   support\n",
      "\n",
      "         0.0       0.67      0.54      0.60      3630\n",
      "         1.0       0.33      0.45      0.38      1782\n",
      "\n",
      "    accuracy                           0.51      5412\n",
      "   macro avg       0.50      0.50      0.49      5412\n",
      "weighted avg       0.56      0.51      0.53      5412\n",
      "\n",
      "Value counts df_kobe_3pt: 0.0    3630\n",
      "1.0    1782\n",
      "Name: shot_made_flag, dtype: int64\n"
     ]
    }
   ],
   "source": [
    "import requests\n",
    "host = 'localhost'\n",
    "port = '5002'\n",
    "url = f'http://{host}:{port}/invocations'\n",
    "headers = {'Content-Type': 'application/json'}\n",
    "\n",
    "http_data = data_operation.drop(target_col,axis=1).to_json(orient='split')\n",
    "r = requests.post(url=url, headers=headers, data=http_data)\n",
    "data_operation.loc[:, 'operation_label'] = pd.read_json(r.text).values[:,0]\n",
    "data_operation.to_parquet('../Data/Modeling/modelo_kobe_operacao.parquet')\n",
    "\n",
    "print(metrics.classification_report(data_operation[target_col], data_operation['operation_label']))\n",
    "\n",
    "http_data = df_3pt.drop(target_col,axis=1).to_json(orient='split')\n",
    "r = requests.post(url=url, headers=headers, data=http_data)\n",
    "\n",
    "df_3pt.loc[:, 'operation_label'] = pd.read_json(r.text).values[:,0]\n",
    "\n",
    "print(metrics.classification_report(df_3pt[target_col], df_3pt['operation_label']))\n",
    "\n",
    "print(f'Value counts df_kobe_3pt: {df_3pt[target_col].value_counts()}')"
   ]
  },
  {
   "cell_type": "code",
   "execution_count": 19,
   "id": "8274c4d7-e066-4e7d-bd97-69228102f95f",
   "metadata": {},
   "outputs": [],
   "source": [
    "import requests\n",
    "host = 'localhost'\n",
    "port = '5002'\n",
    "url = f'http://{host}:{port}/invocations'\n",
    "headers = {'Content-Type': 'application/json'}\n",
    "\n",
    "http_data = data_operation.drop(target_col,axis=1).to_json(orient='split')\n",
    "r = requests.post(url=url, headers=headers, data=http_data)"
   ]
  },
  {
   "cell_type": "code",
   "execution_count": 21,
   "id": "441fca30-ca44-45bd-9b3f-489774dcf690",
   "metadata": {},
   "outputs": [
    {
     "name": "stdout",
     "output_type": "stream",
     "text": [
      "Métricas retornadas pelo modelo: \n"
     ]
    }
   ],
   "source": [
    "http_data = df_3pt.drop(target_col,axis=1).to_json(orient='split')\n",
    "r = requests.post(url=url, headers=headers, data=http_data)\n",
    "\n",
    "df_3pt.loc[:, 'operation_label'] = pd.read_json(r.text).values[:,0]\n",
    "\n",
    "\n",
    "print(f'Métricas retornadas pelo modelo: ')"
   ]
  },
  {
   "cell_type": "code",
   "execution_count": 22,
   "id": "67fe1f8a-d284-462c-8efb-21bf65307413",
   "metadata": {},
   "outputs": [
    {
     "data": {
      "text/html": [
       "<style type=\"text/css\">\n",
       "</style>\n",
       "<table id=\"T_60a93\">\n",
       "  <thead>\n",
       "    <tr>\n",
       "      <th class=\"blank level0\" >&nbsp;</th>\n",
       "      <th id=\"T_60a93_level0_col0\" class=\"col_heading level0 col0\" >Model</th>\n",
       "      <th id=\"T_60a93_level0_col1\" class=\"col_heading level0 col1\" >Accuracy</th>\n",
       "      <th id=\"T_60a93_level0_col2\" class=\"col_heading level0 col2\" >AUC</th>\n",
       "      <th id=\"T_60a93_level0_col3\" class=\"col_heading level0 col3\" >Recall</th>\n",
       "      <th id=\"T_60a93_level0_col4\" class=\"col_heading level0 col4\" >Prec.</th>\n",
       "      <th id=\"T_60a93_level0_col5\" class=\"col_heading level0 col5\" >F1</th>\n",
       "      <th id=\"T_60a93_level0_col6\" class=\"col_heading level0 col6\" >Kappa</th>\n",
       "      <th id=\"T_60a93_level0_col7\" class=\"col_heading level0 col7\" >MCC</th>\n",
       "      <th id=\"T_60a93_level0_col8\" class=\"col_heading level0 col8\" >Log Loss</th>\n",
       "    </tr>\n",
       "  </thead>\n",
       "  <tbody>\n",
       "    <tr>\n",
       "      <th id=\"T_60a93_level0_row0\" class=\"row_heading level0 row0\" >0</th>\n",
       "      <td id=\"T_60a93_row0_col0\" class=\"data row0 col0\" >Decision Tree Classifier</td>\n",
       "      <td id=\"T_60a93_row0_col1\" class=\"data row0 col1\" >0.5507</td>\n",
       "      <td id=\"T_60a93_row0_col2\" class=\"data row0 col2\" >0.5341</td>\n",
       "      <td id=\"T_60a93_row0_col3\" class=\"data row0 col3\" >0.5879</td>\n",
       "      <td id=\"T_60a93_row0_col4\" class=\"data row0 col4\" >0.5373</td>\n",
       "      <td id=\"T_60a93_row0_col5\" class=\"data row0 col5\" >0.5615</td>\n",
       "      <td id=\"T_60a93_row0_col6\" class=\"data row0 col6\" >0.1027</td>\n",
       "      <td id=\"T_60a93_row0_col7\" class=\"data row0 col7\" >0.1031</td>\n",
       "      <td id=\"T_60a93_row0_col8\" class=\"data row0 col8\" >15.5201</td>\n",
       "    </tr>\n",
       "  </tbody>\n",
       "</table>\n"
      ],
      "text/plain": [
       "<pandas.io.formats.style.Styler at 0x1dee01ff4f0>"
      ]
     },
     "metadata": {},
     "output_type": "display_data"
    },
    {
     "name": "stdout",
     "output_type": "stream",
     "text": [
      "=> Rejeitado o modelo com precisão 0.5506531920138032 (min: 0.5)\n"
     ]
    }
   ],
   "source": [
    "min_accuracy = 0.5\n",
    "model_version = -1 # recuperar a ultima versao\n",
    "\n",
    "\n",
    "with mlflow.start_run(experiment_id=experiment_id, run_name = 'AprovacaoModelo'):\n",
    "    pred_holdout = pc.predict_model(bestmodels[0])\n",
    "    acc = metrics.accuracy_score(pred_holdout[target_col], pred_holdout['Label'])\n",
    "    if acc > min_precision:\n",
    "        print(f'=> Aceito o modelo com precisão {acc} (min: {min_accuracy})')\n",
    "        pred_holdout.to_parquet('../Data/Processed/modelo_kobe_teste.parquet')\n",
    "        \n",
    "        # Assinatura do Modelo Inferida pelo MLFlow\n",
    "        \n",
    "        model_features = list(df.drop(target_col, axis=1).columns)\n",
    "        inf_signature = infer_signature(df[model_features], model_pipe.predict(df))\n",
    "        # Exemplo de entrada para o MLmodel\n",
    "        input_example = {x: df[x].values[:nexamples] for x in model_features}\n",
    "        # Log do pipeline de modelagem do sklearn e registrar como uma nova versao\n",
    "        mlflow.sklearn.log_model(\n",
    "            sk_model=model_pipe,\n",
    "            artifact_path=\"sklearn-model\",\n",
    "            registered_model_name=registered_model_name,\n",
    "            signature = inf_signature,\n",
    "            input_example = input_example\n",
    "        )\n",
    "        # Criacao do cliente do servico MLFlow e atualizacao versao modelo\n",
    "        client = MlflowClient()\n",
    "        if model_version == -1:\n",
    "            model_version = client.get_latest_versions(registered_model_name)[-1].version\n",
    "        # Registrar o modelo como staging\n",
    "        client.transition_model_version_stage(\n",
    "            name=registered_model_name,\n",
    "            version=model_version, # Verificar com usuario qual versao\n",
    "            stage=\"Staging\"\n",
    "        )\n",
    "    else:\n",
    "        print(f'=> Rejeitado o modelo com precisão {acc} (min: {min_accuracy})')\n",
    "\n",
    "    # LOG DE PARAMETROS DO MODELO\n",
    "    mlflow.log_param(\"precisao_minima\", min_accuracy)\n",
    "\n",
    "    # LOG DE METRICAS GLOBAIS\n",
    "    mlflow.log_metric(\"new_version\", model_version)\n",
    "    mlflow.log_metric(\"accuracy\", acc)\n",
    "\n",
    "mlflow.end_run()"
   ]
  },
  {
   "cell_type": "code",
   "execution_count": 24,
   "id": "16c0d54f-7bee-4397-8ac7-c72e748b4d4f",
   "metadata": {},
   "outputs": [
    {
     "name": "stdout",
     "output_type": "stream",
     "text": [
      "== DADOS DE CONTROLE ==\n",
      "              precision    recall  f1-score   support\n",
      "\n",
      "         0.0       0.91      0.84      0.87        69\n",
      "         1.0       0.87      0.93      0.90        81\n",
      "\n",
      "    accuracy                           0.89       150\n",
      "   macro avg       0.89      0.88      0.89       150\n",
      "weighted avg       0.89      0.89      0.89       150\n",
      "\n"
     ]
    }
   ],
   "source": [
    "min_samples_control = 150\n",
    "\n",
    "with mlflow.start_run(experiment_id=experiment_id, run_name = 'RevalidacaoOperacao'):\n",
    "\n",
    "    data_operation = pd.read_parquet('../Data/Modeling/modelo_kobe_operacao.parquet')\n",
    "\n",
    "    data_control = data_operation.sample(min_samples_control, random_state=SEED)\n",
    "    data_control.to_parquet('../Data/Processed/modelo_kobe_controle.parquet')\n",
    "\n",
    "    print('== DADOS DE CONTROLE ==')\n",
    "    print(metrics.classification_report(data_control[target_col], data_control['operation_label']))\n",
    "    \n",
    "    # LOG DE PARAMETROS DO MODELO\n",
    "    mlflow.log_param(\"min_samples_control\", min_samples_control)\n",
    "\n",
    "    # LOG DE METRICAS GLOBAIS\n",
    "    cm = metrics.confusion_matrix(data_control[target_col], data_control['operation_label'])\n",
    "    specificity = cm[0,0] / cm.sum(axis=1)[0]\n",
    "    sensibility = cm[1,1] / cm.sum(axis=1)[1]\n",
    "    precision   = cm[1,1] / cm.sum(axis=0)[1]\n",
    "    mlflow.log_metric(\"Especificidade\", specificity)\n",
    "    mlflow.log_metric(\"Sensibilidade\", sensibility)\n",
    "    mlflow.log_metric(\"Precisao\", precision)\n",
    "\n",
    "mlflow.end_run()"
   ]
  },
  {
   "cell_type": "code",
   "execution_count": 23,
   "id": "cb6f86ba-2766-4c42-b572-6fca6e279568",
   "metadata": {},
   "outputs": [],
   "source": [
    "mpl.rcParams.update(inline_rc)\n",
    "font = {'family' : 'normal',\n",
    "        'weight' : 'normal',\n",
    "        'size'   : 14}\n",
    "mpl.rc('font', **font)\n",
    "lines = {'linewidth' : 4}\n",
    "mpl.rc('lines', **lines)\n",
    "\n",
    "def data_drift_alarm(var_name, dev_data, data_test, data_control):    \n",
    "    sn.kdeplot(dev_data[var_name], label='Desenvolvimento')\n",
    "    sn.kdeplot(data_test[var_name], label='Teste')\n",
    "    sn.kdeplot(data_control[var_name], label='Monitoramento')\n",
    "    plt.grid()\n",
    "    plt.legend(loc='best')\n",
    "    plt.title(f'Distribuição Variável {var_name}')\n",
    "    plt.ylabel('Distancia')\n",
    "    plt.xlabel(f'Unidade de {var_name}')\n",
    "    plt.tight_layout()"
   ]
  },
  {
   "cell_type": "code",
   "execution_count": 25,
   "id": "fc8e829a-c405-4825-b173-42cd46f739e2",
   "metadata": {},
   "outputs": [],
   "source": [
    "def alarm(data_monitoring, testset, min_eff_alarm):\n",
    "    cm = metrics.confusion_matrix(data_monitoring[target_col], data_monitoring['operation_label'])\n",
    "    specificity_m = cm[0,0] / cm.sum(axis=1)[0]\n",
    "    sensibility_m = cm[1,1] / cm.sum(axis=1)[1]\n",
    "    precision_m   = cm[1,1] / cm.sum(axis=0)[1]\n",
    "\n",
    "    cm = metrics.confusion_matrix(testset[target_col], testset['Label'])\n",
    "    specificity_t = cm[0,0] / cm.sum(axis=1)[0]\n",
    "    sensibility_t = cm[1,1] / cm.sum(axis=1)[1]\n",
    "    precision_t   = cm[1,1] / cm.sum(axis=0)[1]\n",
    "\n",
    "    retrain = False\n",
    "    for name, metric_m, metric_t in zip(['especificidade', 'sensibilidade', 'precisao'],\n",
    "                                        [specificity_m, sensibility_m, precision_m],\n",
    "                                        [specificity_t, sensibility_t, precision_t]):\n",
    "        \n",
    "        print(f'\\t=> {name} de teste {metric_t} e de controle {metric_m}')\n",
    "        if (metric_t-metric_m)/metric_t > min_eff_alarm:\n",
    "            print(f'\\t=> MODELO OPERANDO FORA DO ESPERADO')\n",
    "            retrain = True\n",
    "        else:\n",
    "            print(f'\\t=> MODELO OPERANDO DENTRO DO ESPERADO')\n",
    "           \n",
    "        \n",
    "    return (retrain, [specificity_m, sensibility_m, precision_m],\n",
    "                                        [specificity_t, sensibility_t, precision_t] ) "
   ]
  },
  {
   "cell_type": "code",
   "execution_count": 26,
   "id": "9d08f283-f78d-41ff-9062-d79d26143635",
   "metadata": {},
   "outputs": [
    {
     "name": "stdout",
     "output_type": "stream",
     "text": [
      "== ALARME DE RETREINAMENTO - BASE CONTROLE ==\n",
      "\t=> especificidade de teste 0.51496138996139 e de controle 0.8405797101449275\n",
      "\t=> MODELO OPERANDO DENTRO DO ESPERADO\n",
      "\t=> sensibilidade de teste 0.5879093198992443 e de controle 0.9259259259259259\n",
      "\t=> MODELO OPERANDO DENTRO DO ESPERADO\n",
      "\t=> precisao de teste 0.537292817679558 e de controle 0.872093023255814\n",
      "\t=> MODELO OPERANDO DENTRO DO ESPERADO\n",
      "==> RETREINAMENTO NAO NECESSARIO\n"
     ]
    },
    {
     "data": {
      "image/png": "[encoded data removed]",
      "text/plain": [
       "<Figure size 800x550 with 1 Axes>"
      ]
     },
     "metadata": {},
     "output_type": "display_data"
    }
   ],
   "source": [
    "# COLOCAR RUN MONITORAMENTO OPERACAO\n",
    "# PARAMETROS: min_eff_alarm\n",
    "# METRICS: metricas avaliadas e de referencia\n",
    "# ARTIFACTS:\n",
    "\n",
    "print('== ALARME DE RETREINAMENTO - BASE CONTROLE ==')\n",
    "# 10% de desvio aceitavel na metrica. Deve ser estimado pelo conjunto de validacao cruzada. \n",
    "min_eff_alarm = 0.1 \n",
    "\n",
    "with mlflow.start_run(experiment_id=experiment_id, run_name = 'MonitoramentoOperacao'):\n",
    "    data_control = pd.read_parquet('../Data/Processed/modelo_kobe_controle.parquet')\n",
    "    \n",
    "    (retrain, [specificity_m, sensibility_m, precision_m],\n",
    "              [specificity_t, sensibility_t, precision_t] ) = alarm(data_control, pred_holdout, min_eff_alarm)\n",
    "    if retrain:\n",
    "        print('==> RETREINAMENTO NECESSARIO')\n",
    "    else:\n",
    "        print('==> RETREINAMENTO NAO NECESSARIO')\n",
    "    # LOG DE PARAMETROS DO MODELO\n",
    "    mlflow.log_param(\"min_eff_alarm\", min_eff_alarm)\n",
    "\n",
    "    # LOG DE METRICAS GLOBAIS\n",
    "    mlflow.log_metric(\"Alarme Retreino\", float(retrain))\n",
    "    mlflow.log_metric(\"Especificidade Controle\", specificity_m)\n",
    "    mlflow.log_metric(\"Sensibilidade Controle\", sensibility_m)\n",
    "    mlflow.log_metric(\"Precisao Controle\", precision_m)\n",
    "    mlflow.log_metric(\"Especificidade Teste\", specificity_t)\n",
    "    mlflow.log_metric(\"Sensibilidade Teste\", sensibility_t)\n",
    "    mlflow.log_metric(\"Precisao Teste\", precision_t)\n",
    "    \n",
    "    # LOG ARTEFATO\n",
    "    var_name = 'shot_distance' # 'alcohol'\n",
    "    data_drift_alarm(var_name, df, pred_holdout, data_control)\n",
    "    plot_path = f'monitor_datadrift_{var_name}.png'\n",
    "    plt.savefig(plot_path)\n",
    "    mlflow.log_artifact(plot_path)\n",
    "    \n",
    "\n",
    "mlflow.end_run()  "
   ]
  },
  {
   "cell_type": "code",
   "execution_count": 27,
   "id": "4f260a80-918e-4dab-878d-eaa3a3847fa6",
   "metadata": {},
   "outputs": [
    {
     "name": "stdout",
     "output_type": "stream",
     "text": [
      "== ALARME DE RETREINAMENTO - BASE NOVIDADE ==\n",
      "\t=> especificidade de teste 0.51496138996139 e de controle 0.5449035812672176\n",
      "\t=> MODELO OPERANDO DENTRO DO ESPERADO\n",
      "\t=> sensibilidade de teste 0.5879093198992443 e de controle 0.4483726150392817\n",
      "\t=> MODELO OPERANDO FORA DO ESPERADO\n",
      "\t=> precisao de teste 0.537292817679558 e de controle 0.3259893920848633\n",
      "\t=> MODELO OPERANDO FORA DO ESPERADO\n",
      "==> RETREINAMENTO NECESSARIO\n"
     ]
    },
    {
     "data": {
      "image/png": "[encoded data removed]",
      "text/plain": [
       "<Figure size 800x550 with 1 Axes>"
      ]
     },
     "metadata": {},
     "output_type": "display_data"
    }
   ],
   "source": [
    "print('== ALARME DE RETREINAMENTO - BASE NOVIDADE ==')\n",
    "# 10% de desvio aceitavel na metrica. Deve ser estimado pelo conjunto de validacao cruzada. \n",
    "min_eff_alarm = 0.1 \n",
    "\n",
    "with mlflow.start_run(experiment_id=experiment_id, run_name = 'MonitoramentoNovidade'):\n",
    "\n",
    "    model_uri = f\"models:/modelo_kobe/Staging\"\n",
    "    loaded_model = mlflow.sklearn.load_model(model_uri)\n",
    "    data_novelty = pd.read_parquet('../Data/Processed/base_kobe_novidade.parquet')\n",
    "    data_novelty.loc[:, 'operation_label'] = loaded_model.predict(data_novelty)\n",
    "    \n",
    "    (retrain, [specificity_m, sensibility_m, precision_m],\n",
    "              [specificity_t, sensibility_t, precision_t] ) = alarm(data_novelty, pred_holdout, min_eff_alarm)\n",
    "    if retrain:\n",
    "        print('==> RETREINAMENTO NECESSARIO')\n",
    "    else:\n",
    "        print('==> RETREINAMENTO NAO NECESSARIO')\n",
    "    # LOG DE PARAMETROS DO MODELO\n",
    "    mlflow.log_param(\"min_eff_alarm\", min_eff_alarm)\n",
    "\n",
    "    # LOG DE METRICAS GLOBAIS\n",
    "    mlflow.log_metric(\"Alarme Retreino\", float(retrain))\n",
    "    mlflow.log_metric(\"Especificidade Controle\", specificity_m)\n",
    "    mlflow.log_metric(\"Sensibilidade Controle\", sensibility_m)\n",
    "    mlflow.log_metric(\"Precisao Controle\", precision_m)\n",
    "    mlflow.log_metric(\"Especificidade Teste\", specificity_t)\n",
    "    mlflow.log_metric(\"Sensibilidade Teste\", sensibility_t)\n",
    "    mlflow.log_metric(\"Precisao Teste\", precision_t)\n",
    "    # LOG ARTEFATO\n",
    "    var_name = 'shot_distance' # 'alcohol'\n",
    "    data_drift_alarm(var_name, df, pred_holdout, data_novelty)\n",
    "    plot_path = f'novidade_datadrift_{var_name}.png'\n",
    "    plt.savefig(plot_path)\n",
    "    mlflow.log_artifact(plot_path)\n",
    "\n",
    "mlflow.end_run()  "
   ]
  },
  {
   "cell_type": "code",
   "execution_count": 28,
   "id": "d52f3b60-9ee6-48da-b0ee-439a6ea7bb95",
   "metadata": {},
   "outputs": [
    {
     "name": "stderr",
     "output_type": "stream",
     "text": [
      "Registered model 'modelo_kobe' already exists. Creating a new version of this model...\n",
      "2022/09/10 15:29:21 INFO mlflow.tracking._model_registry.client: Waiting up to 300 seconds for model version to finish creation.                     Model name: modelo_kobe, version 3\n",
      "Created version '3' of model 'modelo_kobe'.\n"
     ]
    },
    {
     "ename": "AttributeError",
     "evalue": "'list' object has no attribute 'version'",
     "output_type": "error",
     "traceback": [
      "\u001b[1;31m---------------------------------------------------------------------------\u001b[0m",
      "\u001b[1;31mAttributeError\u001b[0m                            Traceback (most recent call last)",
      "Input \u001b[1;32mIn [28]\u001b[0m, in \u001b[0;36m<cell line: 11>\u001b[1;34m()\u001b[0m\n\u001b[0;32m     10\u001b[0m client \u001b[38;5;241m=\u001b[39m MlflowClient()\n\u001b[0;32m     11\u001b[0m \u001b[38;5;28;01mif\u001b[39;00m model_version \u001b[38;5;241m==\u001b[39m \u001b[38;5;241m-\u001b[39m\u001b[38;5;241m1\u001b[39m:\n\u001b[1;32m---> 12\u001b[0m     model_version \u001b[38;5;241m=\u001b[39m \u001b[43mclient\u001b[49m\u001b[38;5;241;43m.\u001b[39;49m\u001b[43mget_latest_versions\u001b[49m\u001b[43m(\u001b[49m\u001b[43mregistered_model_name\u001b[49m\u001b[43m)\u001b[49m\u001b[38;5;241;43m.\u001b[39;49m\u001b[43mversion\u001b[49m\n\u001b[0;32m     13\u001b[0m \u001b[38;5;66;03m# Registrar o modelo como staging\u001b[39;00m\n\u001b[0;32m     14\u001b[0m client\u001b[38;5;241m.\u001b[39mtransition_model_version_stage(\n\u001b[0;32m     15\u001b[0m      name\u001b[38;5;241m=\u001b[39mregistered_model_name,\n\u001b[0;32m     16\u001b[0m      version\u001b[38;5;241m=\u001b[39mclient\u001b[38;5;241m.\u001b[39mget_latest_versions(registered_model_name)\u001b[38;5;241m.\u001b[39mversion, \u001b[38;5;66;03m# Verificar com usuario qual versao\u001b[39;00m\n\u001b[0;32m     17\u001b[0m      stage\u001b[38;5;241m=\u001b[39m\u001b[38;5;124m\"\u001b[39m\u001b[38;5;124mProduction\u001b[39m\u001b[38;5;124m\"\u001b[39m\n\u001b[0;32m     18\u001b[0m )\n",
      "\u001b[1;31mAttributeError\u001b[0m: 'list' object has no attribute 'version'"
     ]
    }
   ],
   "source": [
    "# Log do pipeline de modelagem do sklearn e registrar como uma nova versao\n",
    "mlflow.sklearn.log_model(\n",
    "     sk_model=model_pipe,\n",
    "     artifact_path=\"sklearn-model\",\n",
    "     registered_model_name=registered_model_name,\n",
    "     signature = inf_signature,\n",
    "     input_example = input_example\n",
    " )\n",
    "# Criacao do cliente do servico MLFlow e atualizacao versao modelo\n",
    "client = MlflowClient()\n",
    "if model_version == -1:\n",
    "    model_version = client.get_latest_versions(registered_model_name).version\n",
    "# Registrar o modelo como staging\n",
    "client.transition_model_version_stage(\n",
    "     name=registered_model_name,\n",
    "     version=client.get_latest_versions(registered_model_name).version, # Verificar com usuario qual versao\n",
    "     stage=\"Production\"\n",
    ")\n",
    "mlflow.end_run()"
   ]
  }
 ],
 "metadata": {
  "kernelspec": {
   "display_name": "Python 3 (ipykernel)",
   "language": "python",
   "name": "python3"
  },
  "language_info": {
   "codemirror_mode": {
    "name": "ipython",
    "version": 3
   },
   "file_extension": ".py",
   "mimetype": "text/x-python",
   "name": "python",
   "nbconvert_exporter": "python",
   "pygments_lexer": "ipython3",
   "version": "3.8.13"
  }
 },
 "nbformat": 4,
 "nbformat_minor": 5
}
